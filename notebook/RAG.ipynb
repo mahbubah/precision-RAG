{
 "cells": [
  {
   "cell_type": "code",
   "execution_count": 1,
   "metadata": {},
   "outputs": [
    {
     "ename": "ModuleNotFoundError",
     "evalue": "No module named 'docx'",
     "output_type": "error",
     "traceback": [
      "\u001b[0;31m---------------------------------------------------------------------------\u001b[0m",
      "\u001b[0;31mModuleNotFoundError\u001b[0m                       Traceback (most recent call last)",
      "Cell \u001b[0;32mIn[1], line 2\u001b[0m\n\u001b[1;32m      1\u001b[0m \u001b[38;5;28;01mimport\u001b[39;00m \u001b[38;5;21;01mos\u001b[39;00m\n\u001b[0;32m----> 2\u001b[0m \u001b[38;5;28;01mfrom\u001b[39;00m \u001b[38;5;21;01mdocx\u001b[39;00m \u001b[38;5;28;01mimport\u001b[39;00m Document\n\u001b[1;32m      3\u001b[0m \u001b[38;5;28;01mfrom\u001b[39;00m \u001b[38;5;21;01mlangchain\u001b[39;00m\u001b[38;5;21;01m.\u001b[39;00m\u001b[38;5;21;01mtext_splitter\u001b[39;00m \u001b[38;5;28;01mimport\u001b[39;00m RecursiveCharacterTextSplitter, SentenceTransformersTokenTextSplitter\n\u001b[1;32m      4\u001b[0m \u001b[38;5;28;01mfrom\u001b[39;00m \u001b[38;5;21;01mchromadb\u001b[39;00m \u001b[38;5;28;01mimport\u001b[39;00m Client\n",
      "\u001b[0;31mModuleNotFoundError\u001b[0m: No module named 'docx'"
     ]
    }
   ],
   "source": [
    "'''\n",
    "from docx import Document\n",
    "from langchain.text_splitter import RecursiveCharacterTextSplitter, SentenceTransformersTokenTextSplitter\n",
    "from chromadb import Client\n",
    "from chromadb.utils.embedding_functions import SentenceTransformerEmbeddingFunction\n",
    "from dotenv import load_dotenv, find_dotenv\n",
    "import openai\n",
    "from sentence_transformers import CrossEncoder\n",
    "import numpy as np\n",
    "from openai import OpenAI\n",
    "'''"
   ]
  },
  {
   "cell_type": "code",
   "execution_count": 4,
   "metadata": {},
   "outputs": [],
   "source": [
    "from pypdf import PdfReader"
   ]
  },
  {
   "cell_type": "code",
   "execution_count": 7,
   "metadata": {},
   "outputs": [
    {
     "name": "stdout",
     "output_type": "stream",
     "text": [
      "INTERNATIONAL TRAVEL AND HEALTH - CHAPTER 7 \n",
      "Malaria  \n",
      " \n",
      " \n",
      "7.1  Background \n",
      "Malaria is a common and life-threatening disease in  many tropical and subtropical areas. There \n",
      "is currently a risk of malaria transmission in 91 c ountries and  territories, and these are visited \n",
      "by more than 125 million international travellers e very  year. \n",
      "Each year many international travellers fall ill wi th malaria while visiting countries/territories \n",
      "where malaria is endemic, and well  over 10 000 are reported to become ill with malaria  after \n",
      "returning home. However, under-reporting means that  the real figure may  be considerably \n",
      "higher. International travellers to countries/terri tories with ongoing local malaria transmission \n",
      "arriving from  countries with no transmission are at high risk of malaria infection and its \n",
      "consequences because they lack immunity. Migrants  from countries/territories with malaria \n",
      "transmission living in malaria-free countries and r eturning to their home countries to visit  \n",
      "friends and relatives are similarly at risk because  of waning or absent immunity. \n",
      "Travellers who fall ill during travel may find it d ifficult to access reliable medical care. \n",
      "Those who develop malaria upon  returning to a country that is malaria-free face pa rticular \n",
      "problems: medical personnel may be unfamiliar with malaria, the  diagnosis may be delayed, \n",
      "and effective antimalarial medicines may not be reg istered and/or available, resulting in \n",
      "progression to  severe malaria with complications and, consequently , high case  fatality rates.  \n",
      "Fever occurring in a traveller within 3 months of l eaving a country in which there is risk \n",
      "of malaria is a potential medical  emergency and should be investigated urgently to \n",
      "exclude malaria. In the rare situations in which there is no rapid a ccess to reliable \n",
      "diagnostic  facilities, standby emergency treatment (SBET) is i ndicated (see section 7.3.2). \n",
      " \n",
      "7.1.1  Cause  \n",
      "Malaria is caused by the protozoan parasite Plasmod ium. Human malaria is caused by five \n",
      "different species of Plasmodium: P. falciparum, P. malariae, P. ovale, P. vivax and P.knowlesi . \n",
      "Of these, P. falciparum and  P. vivax are the most prevalent, and P. falciparum  is the most \n",
      "dangerous, with the highest rates of complications and mortality. This deadly form of malaria is \n",
      "a serious public health concern in most countries i n sub-Saharan Africa. P.  knowlesi, a species \n",
      "that normally infects animals, can  occasionally infect humans. As yet there are no rep orts of \n",
      "human-mosquito-human transmission of such “zoonotic ” forms of malaria. \n",
      " \n",
      "7.1.2 Transmission  \n",
      "The malaria parasite is transmitted by female Anopheles mosquitoes, which bite mainly between \n",
      "dusk and dawn.\n"
     ]
    }
   ],
   "source": [
    "reader = PdfReader(\"../data/2017-ith-chapter7.pdf\")\n",
    "pdf_texts = [p.extract_text().strip() for p in reader.pages]\n",
    "\n",
    "pdf_texts = [text for text in pdf_texts if text]\n",
    "\n",
    "print(pdf_texts[0])"
   ]
  },
  {
   "cell_type": "code",
   "execution_count": 13,
   "metadata": {},
   "outputs": [],
   "source": [
    "from langchain.text_splitter import RecursiveCharacterTextSplitter, SentenceTransformersTokenTextSplitter"
   ]
  },
  {
   "cell_type": "code",
   "execution_count": 19,
   "metadata": {},
   "outputs": [
    {
     "name": "stdout",
     "output_type": "stream",
     "text": [
      "infection and believe in the  benefit of prevention strategies. Late-onset vivax and ovale \n",
      "malaria may occur despite effective prophylaxis bec ause these parasites  cause relapses that \n",
      "cannot be prevented with medicines that are current ly recommended for chemoprophylaxis. \n",
      "Malaria risk is not evenly distributed where the di sease is prevalent. Travellers to any \n",
      "country/territory in which malaria  transmission varies by area should seek advice on t he risk \n",
      "of infection in the particular zones that they will  be visiting. If specific  information is not \n",
      "available before travelling, it is recommended that  precautions appropriate for the highest \n",
      "reported risk in the  country/territory should be taken. This  applies particularly to individuals \n",
      "backpacking to remote places and visiting areas whe re health facilities are not readily \n",
      "available.  Travellers staying in rural areas at night may be a t highest risk. \n",
      " \n",
      " \n",
      "7.2 Precautions\n",
      "\n",
      "Total chunks: 70\n"
     ]
    }
   ],
   "source": [
    "character_splitter = RecursiveCharacterTextSplitter(\n",
    "    separators=[\"\\n\\n\", \"\\n\",\". \",\" \",\"\"],\n",
    "    chunk_size = 1000,\n",
    "    chunk_overlap=0\n",
    ")\n",
    "\n",
    "character_split_texts = character_splitter.split_text('\\n\\n'.join(pdf_texts))\n",
    "\n",
    "print(character_split_texts[10])\n",
    "print(f\"\\nTotal chunks: {len(character_split_texts)}\")"
   ]
  },
  {
   "cell_type": "code",
   "execution_count": 21,
   "metadata": {},
   "outputs": [
    {
     "name": "stderr",
     "output_type": "stream",
     "text": [
      "/home/mahbubah/Desktop/projets/precision-RAG/.venv/lib/python3.12/site-packages/transformers/tokenization_utils_base.py:1601: FutureWarning: `clean_up_tokenization_spaces` was not set. It will be set to `True` by default. This behavior will be depracted in transformers v4.45, and will be then set to `False` by default. For more details check this issue: https://github.com/huggingface/transformers/issues/31884\n",
      "  warnings.warn(\n"
     ]
    },
    {
     "name": "stdout",
     "output_type": "stream",
     "text": [
      "infection and believe in the benefit of prevention strategies. late - onset vivax and ovale malaria may occur despite effective prophylaxis bec ause these parasites cause relapses that cannot be prevented with medicines that are current ly recommended for chemoprophylaxis. malaria risk is not evenly distributed where the di sease is prevalent. travellers to any country / territory in which malaria transmission varies by area should seek advice on t he risk of infection in the particular zones that they will be visiting. if specific information is not available before travelling, it is recommended that precautions appropriate for the highest reported risk in the country / territory should be taken. this applies particularly to individuals backpacking to remote places and visiting areas whe re health facilities are not readily available. travellers staying in rural areas at night may be a t highest risk. 7. 2 precautions\n",
      "\n",
      "Total chunks: 73\n"
     ]
    }
   ],
   "source": [
    "token_splitter = SentenceTransformersTokenTextSplitter(chunk_overlap=0, tokens_per_chunk=256)\n",
    "\n",
    "token_split_texts = []\n",
    "for text in character_split_texts:\n",
    "    token_split_texts += token_splitter.split_text(text)\n",
    "\n",
    "print(token_split_texts[10])\n",
    "print(f\"\\nTotal chunks: {len(token_split_texts)}\")"
   ]
  },
  {
   "cell_type": "code",
   "execution_count": 25,
   "metadata": {},
   "outputs": [
    {
     "name": "stdout",
     "output_type": "stream",
     "text": [
      "[[0.07742436230182648, 0.04551458731293678, 0.038965608924627304, -0.05207369104027748, 0.10041967034339905, 0.04394061863422394, 0.06373430043458939, 0.12069519609212875, -0.03627041354775429, 0.07096431404352188, 0.03404441103339195, -0.0037035441491752863, -0.006301800720393658, 0.05267469957470894, 0.011027327738702297, -0.018824612721800804, 0.027707455679774284, -0.042254459112882614, -0.05846555158495903, -0.0339440181851387, -0.02181548997759819, 0.00870450958609581, 0.017603926360607147, 0.047661568969488144, -0.09634354710578918, -0.002335143508389592, 0.005721183959394693, 0.014127206988632679, 0.08240914344787598, 0.03719819709658623, -0.02470913901925087, 0.07127659022808075, -0.11397988349199295, -0.06065041571855545, -0.09781268984079361, 0.056620821356773376, 0.005463159643113613, -0.08404593169689178, 0.01144388783723116, 0.035839926451444626, 0.030277980491518974, -0.023018136620521545, -0.028705265372991562, -0.0764763280749321, -0.040207866579294205, -0.10544358938932419, -0.03214183449745178, 0.06947634369134903, 0.023669427260756493, -0.005556692369282246, 0.028548097237944603, -0.10346867889165878, -0.06452056020498276, 0.04252544045448303, -0.02924342453479767, -0.05007493123412132, -0.0605638362467289, -0.03528677299618721, -0.05355163291096687, -0.01582726091146469, -0.018484769389033318, 0.013974158093333244, 0.001209776964969933, 0.006601880304515362, -0.08050329983234406, 0.03299834579229355, -0.07136420905590057, 0.047408074140548706, 0.09337201714515686, 0.03002539463341236, -0.05114561691880226, -0.07357694208621979, -0.05343924090266228, 0.06640692800283432, -0.04402437061071396, -0.031137580052018166, -0.009109411388635635, -0.06024695932865143, -0.0014774426817893982, -0.009905656799674034, 0.024678964167833328, 0.0797506794333458, 0.12694726884365082, -0.021615218371152878, 0.03676324337720871, -0.029072633013129234, -0.0025319610722362995, 0.029005100950598717, 0.07487423717975616, -0.03501689061522484, 0.06910113990306854, -0.020456155762076378, 0.044970910996198654, 0.05028286948800087, -0.05036168918013573, 0.013620101846754551, -0.0025575661566108465, 0.0027326131239533424, -0.028482582420110703, 0.011686176061630249, 0.0077215153723955154, -0.11546099931001663, -0.01985461637377739, 0.0498180165886879, -0.07757455110549927, -0.049037329852581024, 0.02002759464085102, -0.08620032668113708, -0.005919587332755327, 0.018314089626073837, -0.07040541619062424, 0.08206484466791153, 0.059405259788036346, -0.029757307842373848, -0.11892601102590561, 0.008200334385037422, -0.018680106848478317, -0.0515918992459774, -0.04121676832437515, -0.004107670392841101, -0.013200967572629452, -0.05293968692421913, 0.11138390749692917, -0.09806356579065323, 0.10687658190727234, -0.06699970364570618, 0.08059363067150116, 6.0674742528745365e-33, -0.03672541305422783, -0.04468204826116562, 0.026470886543393135, 0.07042887061834335, 0.012715952470898628, 0.021966801956295967, -0.03282175958156586, 0.015565991401672363, 0.05174301192164421, -0.07170801609754562, -0.019829191267490387, -0.05161992460489273, -0.027212897315621376, 0.010399064049124718, 0.05119088664650917, 0.05817902833223343, 0.11084964126348495, -0.008484326303005219, -0.016118356958031654, 0.06084265187382698, -0.0022748711053282022, -0.15625816583633423, 0.043448153883218765, 0.021409569308161736, 0.06674699485301971, 0.04298430681228638, -0.04408305510878563, 0.009513936005532742, 0.04558964818716049, 0.05512455850839615, -0.027244294062256813, -0.03904261067509651, -0.06453584134578705, -0.0640961304306984, -0.01633470691740513, 0.09648050367832184, -0.10582616180181503, -0.03519042581319809, -0.07457824796438217, -0.01241565216332674, -0.09614846855401993, 0.03450945392251015, -0.006131260190159082, 0.021146047860383987, 0.0899406149983406, 0.011672970838844776, -0.02238529548048973, -0.02819720283150673, -0.03251956030726433, -0.03735106438398361, -0.05592275783419609, -0.004303881898522377, -0.009380488656461239, -0.03361014649271965, -0.00718529662117362, 0.06269582360982895, 0.016881369054317474, 0.05721155181527138, -0.01645142026245594, 0.015764856711030006, 0.08572965115308762, -0.023423554375767708, -0.008418170735239983, -0.022604340687394142, 0.07635972648859024, -0.02389715053141117, 0.039973992854356766, -0.08316439390182495, -0.03346765413880348, -0.05640595406293869, -0.015403935685753822, 0.016370834782719612, -0.02204187959432602, 0.06594303250312805, -0.03070632740855217, -0.037450022995471954, 0.020416390150785446, 0.014638704247772694, 0.04959289729595184, -0.050905775278806686, -0.048262204974889755, -0.010834121145308018, -0.00432805297896266, 0.051500700414180756, -0.057371314615011215, 0.03198481723666191, 0.03657931834459305, 0.03798159584403038, -0.03135180473327637, -0.01470193825662136, 0.07383278757333755, -0.02344539389014244, 0.03470950201153755, -0.008901141583919525, -0.04574049264192581, -7.76480801490927e-33, 0.04685314744710922, 0.010133543983101845, 0.004607833921909332, -0.052509669214487076, 0.016776645556092262, 0.09350083023309708, 0.02658431977033615, -0.005873294547200203, 0.027865638956427574, 0.005139039363712072, -0.07558383047580719, 0.03745800256729126, 0.04636264964938164, 0.007717840373516083, -0.04360414668917656, 0.03722972050309181, 0.02133888006210327, 0.004581935238093138, -0.05478401482105255, -0.037966836243867874, -0.03717615082859993, -0.034179411828517914, 0.0021309396252036095, -0.009840455837547779, -0.09978175908327103, 0.0016348599456250668, -0.08444616198539734, 0.02977738529443741, -0.08937576413154602, 0.0030113395769149065, -0.010108291171491146, 0.0647280290722847, -0.0030259753111749887, -0.02970454841852188, -0.05276172235608101, 0.00789586454629898, 0.04165726527571678, -0.02394223026931286, 0.013607364147901535, 0.04142078384757042, 0.03239062428474426, 0.031427692621946335, 0.0031414323020726442, -0.05859427526593208, -0.010024563409388065, 0.044686704874038696, -0.03970852121710777, 0.007293724920600653, 0.011960734613239765, -0.026210376992821693, 0.062299273908138275, 0.044172510504722595, -0.03370605409145355, -0.00020492210751399398, 0.011768892407417297, -0.057224780321121216, -0.04957510903477669, -0.1313733160495758, 0.01165104378014803, -0.03468681871891022, 0.018710575997829437, -0.010487171821296215, -0.054736994206905365, 0.0873979851603508, -0.037751927971839905, 0.009118965826928616, -0.11559818685054779, 0.09496324509382248, 0.11544501781463623, -0.0059647406451404095, -0.047429755330085754, -0.056681957095861435, -0.10626683384180069, -0.020349083468317986, -0.040550414472818375, -0.06791393458843231, 0.030057115480303764, -0.022148186340928078, 0.027986779808998108, 0.014562603086233139, -0.008089437149465084, -0.06769713014364243, -0.04688391834497452, -0.045313868671655655, 0.010930558666586876, -0.004771463107317686, 0.048492077738046646, -0.1110345795750618, -0.005109318997710943, 0.034883931279182434, -0.08813773095607758, 0.01619759202003479, -0.052002690732479095, 0.03935863822698593, 0.03634551540017128, -4.6662744779268905e-08, 0.07958290725946426, -0.05063885822892189, 0.0465751588344574, 0.053014758974313736, -0.0516076534986496, -0.05226241424679756, -0.0530066154897213, 0.04494263231754303, 0.07388792186975479, 0.11058428138494492, -0.02858870103955269, 0.046341199427843094, 0.06140293926000595, 0.0069371722638607025, -0.01722029037773609, 0.11776562035083771, -0.007267983164638281, 0.029426898807287216, -0.07107137888669968, -0.03962390124797821, 0.011988087557256222, 0.02016923390328884, -0.04039648175239563, 0.007089096121490002, 0.10402287542819977, 0.01485969964414835, 0.05359039083123207, 0.023665476590394974, 0.07981841266155243, 0.04106232151389122, -0.059335269033908844, -0.007828247733414173, -0.030149267986416817, 0.040728941559791565, -0.0817624181509018, 0.028401708230376244, 0.04111625254154205, 0.023214831948280334, 0.042911168187856674, 0.05574182793498039, 0.05530557781457901, -0.05067215859889984, 0.0009424003656022251, 0.04400501772761345, 0.010830300860106945, -0.009793722070753574, 0.04398202896118164, 0.07100024819374084, -0.02793005481362343, -0.0932404175400734, -0.028972648084163666, -0.02444051206111908, 0.05467069149017334, 0.038841187953948975, -0.04178332909941673, -0.018426569178700447, -0.04841094836592674, 0.043281953781843185, 0.03342469781637192, -0.04931511729955673, -0.04316451773047447, 0.006430957466363907, -0.020434770733118057, -0.0023855867329984903]]\n"
     ]
    }
   ],
   "source": [
    "import chromadb\n",
    "from chromadb.utils.embedding_functions import SentenceTransformerEmbeddingFunction\n",
    "\n",
    "embedding_function = SentenceTransformerEmbeddingFunction()\n",
    "print(embedding_function([token_split_texts[10]]))"
   ]
  },
  {
   "cell_type": "code",
   "execution_count": 27,
   "metadata": {},
   "outputs": [
    {
     "data": {
      "text/plain": [
       "73"
      ]
     },
     "execution_count": 27,
     "metadata": {},
     "output_type": "execute_result"
    }
   ],
   "source": [
    "chroma_client = chromadb.Client()\n",
    "chroma_collection = chroma_client.create_collection(\"disease\", embedding_function=embedding_function)\n",
    "\n",
    "ids = [str(i) for i in range(len(token_split_texts))]\n",
    "\n",
    "chroma_collection.add(ids=ids, documents=token_split_texts)\n",
    "chroma_collection.count()"
   ]
  },
  {
   "cell_type": "code",
   "execution_count": 28,
   "metadata": {},
   "outputs": [
    {
     "name": "stdout",
     "output_type": "stream",
     "text": [
      "travellers and their advisers should note the five principles – the abcde – of malaria protection : • be aware of the risk, the incubation period, the possib ility of delayed onset, and the main symptoms. • avoid being bitten by mosquitoes, especially between dusk and da wn. • take antimalarial drugs ( chemoprophylaxis ) when appropriate, at regular inter vals to prevent acute malaria attacks. • immediately seek diagnosis and treatment if a fever develops 1 week o r more after entering an area where there is a malaria risk and up to 3 months ( or, rarely, later ) after departure from a risk area. • avoid outdoor activities in environments that are mosquito breeding places, such as swamps or marshy areas, especially in late evenings and at night. 7. 2. 1 protection against mosquito bites all travellers should be advised that personal prot ection from mosquito bites between dusk and dawn is their first line of defence against malaria.\n",
      "\n",
      "\n",
      "infection and believe in the benefit of prevention strategies. late - onset vivax and ovale malaria may occur despite effective prophylaxis bec ause these parasites cause relapses that cannot be prevented with medicines that are current ly recommended for chemoprophylaxis. malaria risk is not evenly distributed where the di sease is prevalent. travellers to any country / territory in which malaria transmission varies by area should seek advice on t he risk of infection in the particular zones that they will be visiting. if specific information is not available before travelling, it is recommended that precautions appropriate for the highest reported risk in the country / territory should be taken. this applies particularly to individuals backpacking to remote places and visiting areas whe re health facilities are not readily available. travellers staying in rural areas at night may be a t highest risk. 7. 2 precautions\n",
      "\n",
      "\n",
      "symptoms are atypical and difficult to recognize, a nd life - threatening complications can occur within hours of the initial symptoms. medical help should be sought immediately if a child develops a febrile illness within 3 months ( or, rar ely, later ) of travelling to a malaria - endemic country or territory. laboratory confirmation of di agnosis should be requested immediately, and treatment with an effective antimalarial drug s hould be initiated as soon as possible. in infants, malaria should be suspected even in non - fe brile illness. parents should be advised not to take infants or young children to areas where th ere is risk of falciparum malaria. if travel cannot be avoided, children must be very carefully protected against mosquito bites and given appropriate chemoprophylactic drugs. long - term travellers and expatriates should adjust the chemoprophylaxis dosage according to the increasing weight of the growing child. mosquito bite prevention for young children\n",
      "\n",
      "\n",
      "7. 1. 4 geographical distribution the current distribution of malaria in the world is available from the who ’ s world malaria report. 1 the risk for travellers of contracting malaria var ies greatly from country to country and even between areas within a country, an d this must be considered in any discussion of appropriate preventive measures. in most countries / territories with malaria risk, th e centres of large urban areas – though not necessarily the peri - urban areas – are free of malaria transmission. however, malaria can be transmitted throughout urban areas of africa and, t o a lesser extent, india. there is usually less risk at altitudes above 1500 m, although in favoura ble climatic conditions the disease can be contracted at altitudes up to almost 3000 m. the risk of infection may also vary according to the season, being highest at the end of, or soon af ter, the rainy season.\n",
      "\n",
      "\n",
      "diagnosis and safe and effective treatment. in prin ciple, travellers can be treated with an act in accordance with the national policy in the count ry they are visiting. national antimalarial drug policies for all countri es / territories with risk are available from the who website 2, 3. in light of the spread of counterfeit drugs in some malaria - endemic settings, travellers are advised to buy sufficient antimalarial medicines fr om reliable sources before departure. 2 who malaria website. see : http : / / www. who. int / malaria / areas / treatment / drug _ pol icies / en / index. html ( accessed ). 3 world malaria report 2016. geneva : world health o rganization ; 2016 ( http : / / www. who. int / malaria / publi cations / world - malaria - report - 20156 / en /, accessed 28 december 2016 ).\n",
      "\n",
      "\n"
     ]
    }
   ],
   "source": [
    "query = \"How do we prevent malaria?\"\n",
    "\n",
    "results = chroma_collection.query(query_texts=[query], n_results=5)\n",
    "retrieved_documents = results['documents'][0]\n",
    "\n",
    "for document in retrieved_documents:\n",
    "    print(document)\n",
    "    print('\\n')"
   ]
  }
 ],
 "metadata": {
  "kernelspec": {
   "display_name": ".venv",
   "language": "python",
   "name": "python3"
  },
  "language_info": {
   "codemirror_mode": {
    "name": "ipython",
    "version": 3
   },
   "file_extension": ".py",
   "mimetype": "text/x-python",
   "name": "python",
   "nbconvert_exporter": "python",
   "pygments_lexer": "ipython3",
   "version": "3.12.3"
  }
 },
 "nbformat": 4,
 "nbformat_minor": 2
}
